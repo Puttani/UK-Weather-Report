{
 "cells": [
  {
   "cell_type": "code",
   "execution_count": 2,
   "id": "2c8603ff",
   "metadata": {},
   "outputs": [],
   "source": [
    "import pandas as pd "
   ]
  },
  {
   "cell_type": "code",
   "execution_count": 3,
   "id": "f694e273",
   "metadata": {},
   "outputs": [],
   "source": [
    "import seaborn as sns"
   ]
  },
  {
   "cell_type": "code",
   "execution_count": 39,
   "id": "10fd292d",
   "metadata": {},
   "outputs": [],
   "source": [
    "%matplotlib inline"
   ]
  },
  {
   "cell_type": "code",
   "execution_count": 40,
   "id": "b6154f2e",
   "metadata": {},
   "outputs": [],
   "source": [
    "from scipy import stats"
   ]
  },
  {
   "cell_type": "code",
   "execution_count": 50,
   "id": "fd5aae33",
   "metadata": {},
   "outputs": [],
   "source": [
    "import scipy"
   ]
  },
  {
   "cell_type": "code",
   "execution_count": 51,
   "id": "d6d6e317",
   "metadata": {},
   "outputs": [],
   "source": [
    "from scipy.interpolate import griddata"
   ]
  },
  {
   "cell_type": "code",
   "execution_count": 41,
   "id": "cd1e68ec",
   "metadata": {},
   "outputs": [],
   "source": [
    "import numpy as np"
   ]
  },
  {
   "cell_type": "code",
   "execution_count": 42,
   "id": "9467d216",
   "metadata": {},
   "outputs": [],
   "source": [
    "import matplotlib.pyplot as plt"
   ]
  },
  {
   "cell_type": "code",
   "execution_count": null,
   "id": "4f91be24",
   "metadata": {},
   "outputs": [],
   "source": [
    "##Importing source Data\n"
   ]
  },
  {
   "cell_type": "code",
   "execution_count": 19,
   "id": "485b804f",
   "metadata": {},
   "outputs": [],
   "source": [
    "df = pd.read_csv(\"D:\\data.csv\")"
   ]
  },
  {
   "cell_type": "code",
   "execution_count": 20,
   "id": "0442f0d1",
   "metadata": {},
   "outputs": [
    {
     "name": "stdout",
     "output_type": "stream",
     "text": [
      "         year  month  tmax  tmin   af   rain    sun    station\n",
      "0      1941.0    1.0   NaN   NaN  NaN   74.7    NaN  aberporth\n",
      "1      1941.0    2.0   NaN   NaN  NaN   69.1    NaN  aberporth\n",
      "2      1941.0    3.0   NaN   NaN  NaN   76.2    NaN  aberporth\n",
      "3      1941.0    4.0   NaN   NaN  NaN   33.7    NaN  aberporth\n",
      "4      1941.0    5.0   NaN   NaN  NaN   51.3    NaN  aberporth\n",
      "...       ...    ...   ...   ...  ...    ...    ...        ...\n",
      "37044  2020.0    2.0  10.8   4.5  2.0  117.4   63.1  yeovilton\n",
      "37045  2020.0    3.0  11.5   3.0  6.0   43.4  159.2  yeovilton\n",
      "37046  2020.0    4.0  17.5   5.3  3.0   39.8  235.0  yeovilton\n",
      "37047  2020.0    5.0  19.7   6.8  2.0    3.6  305.6  yeovilton\n",
      "37048  2020.0    6.0  20.5  11.0  0.0  103.0  187.6  yeovilton\n",
      "\n",
      "[37049 rows x 8 columns]\n"
     ]
    }
   ],
   "source": [
    "print(df)"
   ]
  },
  {
   "cell_type": "code",
   "execution_count": 21,
   "id": "f3fe21bd",
   "metadata": {},
   "outputs": [
    {
     "data": {
      "text/html": [
       "<div>\n",
       "<style scoped>\n",
       "    .dataframe tbody tr th:only-of-type {\n",
       "        vertical-align: middle;\n",
       "    }\n",
       "\n",
       "    .dataframe tbody tr th {\n",
       "        vertical-align: top;\n",
       "    }\n",
       "\n",
       "    .dataframe thead th {\n",
       "        text-align: right;\n",
       "    }\n",
       "</style>\n",
       "<table border=\"1\" class=\"dataframe\">\n",
       "  <thead>\n",
       "    <tr style=\"text-align: right;\">\n",
       "      <th></th>\n",
       "      <th>year</th>\n",
       "      <th>month</th>\n",
       "      <th>tmax</th>\n",
       "      <th>tmin</th>\n",
       "      <th>af</th>\n",
       "      <th>rain</th>\n",
       "      <th>sun</th>\n",
       "    </tr>\n",
       "  </thead>\n",
       "  <tbody>\n",
       "    <tr>\n",
       "      <th>count</th>\n",
       "      <td>37029.000000</td>\n",
       "      <td>37029.000000</td>\n",
       "      <td>35430.000000</td>\n",
       "      <td>35507.000000</td>\n",
       "      <td>34080.000000</td>\n",
       "      <td>35551.000000</td>\n",
       "      <td>27546.000000</td>\n",
       "    </tr>\n",
       "    <tr>\n",
       "      <th>mean</th>\n",
       "      <td>1968.716276</td>\n",
       "      <td>6.487402</td>\n",
       "      <td>12.705699</td>\n",
       "      <td>5.926955</td>\n",
       "      <td>3.486385</td>\n",
       "      <td>73.421774</td>\n",
       "      <td>118.486343</td>\n",
       "    </tr>\n",
       "    <tr>\n",
       "      <th>std</th>\n",
       "      <td>36.936725</td>\n",
       "      <td>3.452393</td>\n",
       "      <td>5.024016</td>\n",
       "      <td>4.058164</td>\n",
       "      <td>5.194166</td>\n",
       "      <td>48.561530</td>\n",
       "      <td>63.367007</td>\n",
       "    </tr>\n",
       "    <tr>\n",
       "      <th>min</th>\n",
       "      <td>1853.000000</td>\n",
       "      <td>1.000000</td>\n",
       "      <td>-0.900000</td>\n",
       "      <td>-8.600000</td>\n",
       "      <td>0.000000</td>\n",
       "      <td>0.000000</td>\n",
       "      <td>2.800000</td>\n",
       "    </tr>\n",
       "    <tr>\n",
       "      <th>25%</th>\n",
       "      <td>1949.000000</td>\n",
       "      <td>3.000000</td>\n",
       "      <td>8.500000</td>\n",
       "      <td>2.700000</td>\n",
       "      <td>0.000000</td>\n",
       "      <td>39.400000</td>\n",
       "      <td>64.700000</td>\n",
       "    </tr>\n",
       "    <tr>\n",
       "      <th>50%</th>\n",
       "      <td>1976.000000</td>\n",
       "      <td>6.000000</td>\n",
       "      <td>12.400000</td>\n",
       "      <td>5.500000</td>\n",
       "      <td>1.000000</td>\n",
       "      <td>63.000000</td>\n",
       "      <td>111.900000</td>\n",
       "    </tr>\n",
       "    <tr>\n",
       "      <th>75%</th>\n",
       "      <td>1997.000000</td>\n",
       "      <td>9.000000</td>\n",
       "      <td>16.800000</td>\n",
       "      <td>9.400000</td>\n",
       "      <td>6.000000</td>\n",
       "      <td>95.600000</td>\n",
       "      <td>163.775000</td>\n",
       "    </tr>\n",
       "    <tr>\n",
       "      <th>max</th>\n",
       "      <td>2020.000000</td>\n",
       "      <td>12.000000</td>\n",
       "      <td>28.300000</td>\n",
       "      <td>17.000000</td>\n",
       "      <td>31.000000</td>\n",
       "      <td>568.800000</td>\n",
       "      <td>350.300000</td>\n",
       "    </tr>\n",
       "  </tbody>\n",
       "</table>\n",
       "</div>"
      ],
      "text/plain": [
       "               year         month          tmax          tmin            af  \\\n",
       "count  37029.000000  37029.000000  35430.000000  35507.000000  34080.000000   \n",
       "mean    1968.716276      6.487402     12.705699      5.926955      3.486385   \n",
       "std       36.936725      3.452393      5.024016      4.058164      5.194166   \n",
       "min     1853.000000      1.000000     -0.900000     -8.600000      0.000000   \n",
       "25%     1949.000000      3.000000      8.500000      2.700000      0.000000   \n",
       "50%     1976.000000      6.000000     12.400000      5.500000      1.000000   \n",
       "75%     1997.000000      9.000000     16.800000      9.400000      6.000000   \n",
       "max     2020.000000     12.000000     28.300000     17.000000     31.000000   \n",
       "\n",
       "               rain           sun  \n",
       "count  35551.000000  27546.000000  \n",
       "mean      73.421774    118.486343  \n",
       "std       48.561530     63.367007  \n",
       "min        0.000000      2.800000  \n",
       "25%       39.400000     64.700000  \n",
       "50%       63.000000    111.900000  \n",
       "75%       95.600000    163.775000  \n",
       "max      568.800000    350.300000  "
      ]
     },
     "execution_count": 21,
     "metadata": {},
     "output_type": "execute_result"
    }
   ],
   "source": [
    "df.describe()\n"
   ]
  },
  {
   "cell_type": "code",
   "execution_count": 22,
   "id": "85359b51",
   "metadata": {},
   "outputs": [
    {
     "name": "stdout",
     "output_type": "stream",
     "text": [
      "<class 'pandas.core.frame.DataFrame'>\n",
      "RangeIndex: 37049 entries, 0 to 37048\n",
      "Data columns (total 8 columns):\n",
      " #   Column   Non-Null Count  Dtype  \n",
      "---  ------   --------------  -----  \n",
      " 0   year     37029 non-null  float64\n",
      " 1   month    37029 non-null  float64\n",
      " 2   tmax     35430 non-null  float64\n",
      " 3   tmin     35507 non-null  float64\n",
      " 4   af       34080 non-null  float64\n",
      " 5   rain     35551 non-null  float64\n",
      " 6   sun      27546 non-null  float64\n",
      " 7   station  37049 non-null  object \n",
      "dtypes: float64(7), object(1)\n",
      "memory usage: 2.3+ MB\n"
     ]
    }
   ],
   "source": [
    "df.info()"
   ]
  },
  {
   "cell_type": "code",
   "execution_count": null,
   "id": "de7a800b",
   "metadata": {},
   "outputs": [],
   "source": [
    "## Data preprocessing"
   ]
  },
  {
   "cell_type": "code",
   "execution_count": null,
   "id": "a0937d56",
   "metadata": {},
   "outputs": [],
   "source": [
    "##create a new field for decade Column  by copying the year row Column"
   ]
  },
  {
   "cell_type": "code",
   "execution_count": 26,
   "id": "4a2c176a",
   "metadata": {},
   "outputs": [],
   "source": [
    "df['decade']=df.year.astype(str)"
   ]
  },
  {
   "cell_type": "code",
   "execution_count": null,
   "id": "6c97576a",
   "metadata": {},
   "outputs": [],
   "source": [
    "##Delete the final digit Column and add 0s to the string"
   ]
  },
  {
   "cell_type": "code",
   "execution_count": 27,
   "id": "e708bc62",
   "metadata": {},
   "outputs": [],
   "source": [
    "df['decade']=df.decade.str[:3]+'0s'"
   ]
  },
  {
   "cell_type": "code",
   "execution_count": 28,
   "id": "b1c57fed",
   "metadata": {},
   "outputs": [
    {
     "name": "stdout",
     "output_type": "stream",
     "text": [
      "         year  month  tmax  tmin   af   rain    sun    station decade\n",
      "0      1941.0    1.0   NaN   NaN  NaN   74.7    NaN  aberporth  1940s\n",
      "1      1941.0    2.0   NaN   NaN  NaN   69.1    NaN  aberporth  1940s\n",
      "2      1941.0    3.0   NaN   NaN  NaN   76.2    NaN  aberporth  1940s\n",
      "3      1941.0    4.0   NaN   NaN  NaN   33.7    NaN  aberporth  1940s\n",
      "4      1941.0    5.0   NaN   NaN  NaN   51.3    NaN  aberporth  1940s\n",
      "...       ...    ...   ...   ...  ...    ...    ...        ...    ...\n",
      "37044  2020.0    2.0  10.8   4.5  2.0  117.4   63.1  yeovilton  2020s\n",
      "37045  2020.0    3.0  11.5   3.0  6.0   43.4  159.2  yeovilton  2020s\n",
      "37046  2020.0    4.0  17.5   5.3  3.0   39.8  235.0  yeovilton  2020s\n",
      "37047  2020.0    5.0  19.7   6.8  2.0    3.6  305.6  yeovilton  2020s\n",
      "37048  2020.0    6.0  20.5  11.0  0.0  103.0  187.6  yeovilton  2020s\n",
      "\n",
      "[37049 rows x 9 columns]\n"
     ]
    }
   ],
   "source": [
    "print(df)"
   ]
  },
  {
   "cell_type": "code",
   "execution_count": null,
   "id": "c1a7cb88",
   "metadata": {},
   "outputs": [],
   "source": [
    "##Weather stationwise Display"
   ]
  },
  {
   "cell_type": "code",
   "execution_count": 29,
   "id": "a3eff758",
   "metadata": {},
   "outputs": [
    {
     "name": "stdout",
     "output_type": "stream",
     "text": [
      "['aberporth' 'armagh' 'ballypatrick' 'bradford' 'braemar' 'camborne'\n",
      " 'cambridge' 'cardiff' 'chivenor' 'cwmystwyth' 'dunstaffnage' 'durham'\n",
      " 'eastbourne' 'eskdalemuir' 'heathrow' 'hurn' 'lerwick' 'leuchars'\n",
      " 'lowestoft' 'manston' 'nairn' 'newtonrigg' 'oxford' 'paisley' 'ringway'\n",
      " 'rossonwye' 'shawbury' 'sheffield' 'southampton' 'stornoway' 'tiree'\n",
      " 'valley' 'waddington' 'whitby' 'wickairport' 'yeovilton']\n"
     ]
    }
   ],
   "source": [
    "print(df['station'].unique())"
   ]
  },
  {
   "cell_type": "code",
   "execution_count": null,
   "id": "b4fd8269",
   "metadata": {},
   "outputs": [],
   "source": [
    "## create a new data set called heathrow_data where the station value is 'heathrow'"
   ]
  },
  {
   "cell_type": "code",
   "execution_count": 31,
   "id": "bf3468a4",
   "metadata": {},
   "outputs": [],
   "source": [
    "heathrow_data=df[df['station']=='heathrow'].copy()"
   ]
  },
  {
   "cell_type": "code",
   "execution_count": 32,
   "id": "dce520d7",
   "metadata": {},
   "outputs": [
    {
     "name": "stdout",
     "output_type": "stream",
     "text": [
      "         year  month  tmax  tmin   af  rain    sun   station decade\n",
      "13237  1948.0    1.0   8.9   3.3  NaN  85.0    NaN  heathrow  1940s\n",
      "13238  1948.0    2.0   7.9   2.2  NaN  26.0    NaN  heathrow  1940s\n",
      "13239  1948.0    3.0  14.2   3.8  NaN  14.0    NaN  heathrow  1940s\n",
      "13240  1948.0    4.0  15.4   5.1  NaN  35.0    NaN  heathrow  1940s\n",
      "13241  1948.0    5.0  18.1   6.9  NaN  57.0    NaN  heathrow  1940s\n",
      "...       ...    ...   ...   ...  ...   ...    ...       ...    ...\n",
      "14102  2020.0    2.0  11.1   4.3  1.0  99.8   62.0  heathrow  2020s\n",
      "14103  2020.0    3.0  12.0   3.9  1.0  42.8  148.0  heathrow  2020s\n",
      "14104  2020.0    4.0  18.2   6.5  1.0  38.2  235.4  heathrow  2020s\n",
      "14105  2020.0    5.0  21.1   9.1  0.0   2.0  308.6  heathrow  2020s\n",
      "14106  2020.0    6.0  22.5  12.6  0.0  54.0  174.9  heathrow  2020s\n",
      "\n",
      "[870 rows x 9 columns]\n"
     ]
    }
   ],
   "source": [
    "print(heathrow_data)"
   ]
  },
  {
   "cell_type": "code",
   "execution_count": null,
   "id": "4ee09eda",
   "metadata": {},
   "outputs": [],
   "source": [
    "## Exploratory Data Analysis"
   ]
  },
  {
   "cell_type": "code",
   "execution_count": null,
   "id": "010c63ca",
   "metadata": {},
   "outputs": [],
   "source": []
  },
  {
   "cell_type": "code",
   "execution_count": null,
   "id": "4b94fcd8",
   "metadata": {},
   "outputs": [],
   "source": [
    "## Exploring T  Min Value"
   ]
  },
  {
   "cell_type": "code",
   "execution_count": 33,
   "id": "ad2849b7",
   "metadata": {},
   "outputs": [
    {
     "data": {
      "text/plain": [
       "count    870.000000\n",
       "mean       7.082989\n",
       "std        4.454639\n",
       "min       -4.600000\n",
       "25%        3.325000\n",
       "50%        6.550000\n",
       "75%       11.200000\n",
       "max       16.700000\n",
       "Name: tmin, dtype: float64"
      ]
     },
     "execution_count": 33,
     "metadata": {},
     "output_type": "execute_result"
    }
   ],
   "source": [
    "heathrow_data['tmin'].describe()"
   ]
  },
  {
   "cell_type": "code",
   "execution_count": null,
   "id": "9c697b35",
   "metadata": {},
   "outputs": [],
   "source": [
    "## Exploring T  Max Value"
   ]
  },
  {
   "cell_type": "code",
   "execution_count": 34,
   "id": "3e181141",
   "metadata": {},
   "outputs": [
    {
     "data": {
      "text/plain": [
       "count    870.000000\n",
       "mean      14.919080\n",
       "std        5.783048\n",
       "min        0.800000\n",
       "25%        9.800000\n",
       "50%       14.700000\n",
       "75%       20.100000\n",
       "max       28.300000\n",
       "Name: tmax, dtype: float64"
      ]
     },
     "execution_count": 34,
     "metadata": {},
     "output_type": "execute_result"
    }
   ],
   "source": [
    "heathrow_data['tmax'].describe()"
   ]
  },
  {
   "cell_type": "code",
   "execution_count": null,
   "id": "0c2e1e89",
   "metadata": {},
   "outputs": [],
   "source": [
    "##  Display a boxplot for the tmax column using a catplot from Seaborn"
   ]
  },
  {
   "cell_type": "code",
   "execution_count": 35,
   "id": "ee571e54",
   "metadata": {},
   "outputs": [
    {
     "data": {
      "image/png": "[encoded data removed]",
      "text/plain": [
       "<Figure size 360x360 with 1 Axes>"
      ]
     },
     "metadata": {
      "needs_background": "light"
     },
     "output_type": "display_data"
    }
   ],
   "source": [
    "sns.catplot(kind='box', x='tmax', data=heathrow_data);"
   ]
  },
  {
   "cell_type": "code",
   "execution_count": null,
   "id": "093ca138",
   "metadata": {},
   "outputs": [],
   "source": [
    "##  Display a boxplot for the tmax column grouped by decade column"
   ]
  },
  {
   "cell_type": "code",
   "execution_count": null,
   "id": "63eb0293",
   "metadata": {},
   "outputs": [],
   "source": [
    "## tmax is on the x-axis Co-ordinate while decade on the y-axis Co-ordinate& Thease two splits into different plots, the aspect value scales the width by a factor"
   ]
  },
  {
   "cell_type": "code",
   "execution_count": 36,
   "id": "ecd90800",
   "metadata": {},
   "outputs": [
    {
     "data": {
      "image/png": "[encoded data removed]",
      "text/plain": [
       "<Figure size 720x360 with 1 Axes>"
      ]
     },
     "metadata": {
      "needs_background": "light"
     },
     "output_type": "display_data"
    }
   ],
   "source": [
    "sns.catplot(kind='box', x='tmax', y='decade', data=heathrow_data, aspect=2);"
   ]
  },
  {
   "cell_type": "code",
   "execution_count": null,
   "id": "effeca95",
   "metadata": {},
   "outputs": [],
   "source": [
    "##  filter for the months where tmax>=20, group these by decade and count them"
   ]
  },
  {
   "cell_type": "code",
   "execution_count": 37,
   "id": "8a7376c3",
   "metadata": {},
   "outputs": [
    {
     "data": {
      "text/plain": [
       "decade\n",
       "1940s     6\n",
       "1950s    25\n",
       "1960s    28\n",
       "1970s    29\n",
       "1980s    30\n",
       "1990s    33\n",
       "2000s    37\n",
       "2010s    36\n",
       "2020s     2\n",
       "Name: tmax, dtype: int64"
      ]
     },
     "execution_count": 37,
     "metadata": {},
     "output_type": "execute_result"
    }
   ],
   "source": [
    "heathrow_data[heathrow_data['tmax'] >= 20].groupby('decade')['tmax'].count()"
   ]
  },
  {
   "cell_type": "code",
   "execution_count": null,
   "id": "0ffa2f70",
   "metadata": {},
   "outputs": [],
   "source": [
    "## This shows that the relative frequency of months where the mean of the maximum \n",
    "daily temperature exceeded 20°C went from approximately 20% in the 1950s to 30% in the 2010s."
   ]
  },
  {
   "cell_type": "code",
   "execution_count": 49,
   "id": "1677c2d3",
   "metadata": {},
   "outputs": [
    {
     "ename": "TypeError",
     "evalue": "read_csv() got an unexpected keyword argument 'df1'",
     "output_type": "error",
     "traceback": [
      "\u001b[1;31m---------------------------------------------------------------------------\u001b[0m",
      "\u001b[1;31mTypeError\u001b[0m                                 Traceback (most recent call last)",
      "\u001b[1;32m<ipython-input-49-1905a792d4ff>\u001b[0m in \u001b[0;36m<module>\u001b[1;34m\u001b[0m\n\u001b[1;32m----> 1\u001b[1;33m \u001b[0mdf\u001b[0m \u001b[1;33m=\u001b[0m \u001b[0mpd\u001b[0m\u001b[1;33m.\u001b[0m\u001b[0mread_csv\u001b[0m\u001b[1;33m(\u001b[0m\u001b[1;34m\"D:\\data.csv\"\u001b[0m\u001b[1;33m,\u001b[0m\u001b[0mdf1\u001b[0m \u001b[1;33m=\u001b[0m\u001b[1;34m'True'\u001b[0m\u001b[1;33m,\u001b[0m \u001b[0mindex_col\u001b[0m\u001b[1;33m=\u001b[0m\u001b[1;36m0\u001b[0m\u001b[1;33m)\u001b[0m\u001b[1;33m\u001b[0m\u001b[1;33m\u001b[0m\u001b[0m\n\u001b[0m",
      "\u001b[1;31mTypeError\u001b[0m: read_csv() got an unexpected keyword argument 'df1'"
     ]
    }
   ],
   "source": [
    "df = pd.read_csv(\"D:\\data.csv\",df1 ='True', index_col=0)"
   ]
  },
  {
   "cell_type": "code",
   "execution_count": null,
   "id": "cefde431",
   "metadata": {},
   "outputs": [],
   "source": [
    "##To Test Hypothetical values for time,rainfall,latitude & longitude"
   ]
  },
  {
   "cell_type": "code",
   "execution_count": 52,
   "id": "57589d45",
   "metadata": {},
   "outputs": [],
   "source": [
    "time = np.linspace (0,100,100)"
   ]
  },
  {
   "cell_type": "code",
   "execution_count": 53,
   "id": "35528163",
   "metadata": {},
   "outputs": [],
   "source": [
    "rainfall = np.random.rand(100)"
   ]
  },
  {
   "cell_type": "code",
   "execution_count": 54,
   "id": "20cc597e",
   "metadata": {},
   "outputs": [],
   "source": [
    "latitude = np.random.rand(100)"
   ]
  },
  {
   "cell_type": "code",
   "execution_count": 55,
   "id": "f95dab73",
   "metadata": {},
   "outputs": [],
   "source": [
    "longitude = np.random.rand(100)"
   ]
  },
  {
   "cell_type": "code",
   "execution_count": null,
   "id": "cfa39af8",
   "metadata": {},
   "outputs": [],
   "source": [
    "## To plot the bar plot for rainfall values"
   ]
  },
  {
   "cell_type": "code",
   "execution_count": null,
   "id": "3b322c32",
   "metadata": {},
   "outputs": [],
   "source": []
  },
  {
   "cell_type": "code",
   "execution_count": 65,
   "id": "2d947262",
   "metadata": {},
   "outputs": [
    {
     "data": {
      "text/plain": [
       "Text(0.5, 0, 'time in minutes')"
      ]
     },
     "execution_count": 65,
     "metadata": {},
     "output_type": "execute_result"
    },
    {
     "data": {
      "image/png": "[encoded data removed]",
      "text/plain": [
       "<Figure size 432x288 with 1 Axes>"
      ]
     },
     "metadata": {
      "needs_background": "light"
     },
     "output_type": "display_data"
    }
   ],
   "source": [
    "plt.xlabel('time in minutes')"
   ]
  },
  {
   "cell_type": "code",
   "execution_count": 61,
   "id": "330ca6d7",
   "metadata": {},
   "outputs": [
    {
     "data": {
      "text/plain": [
       "Text(0, 0.5, 'Rainfall in mm')"
      ]
     },
     "execution_count": 61,
     "metadata": {},
     "output_type": "execute_result"
    },
    {
     "data": {
      "image/png": "[encoded data removed]",
      "text/plain": [
       "<Figure size 432x288 with 1 Axes>"
      ]
     },
     "metadata": {
      "needs_background": "light"
     },
     "output_type": "display_data"
    }
   ],
   "source": [
    "plt.ylabel('Rainfall in mm')"
   ]
  },
  {
   "cell_type": "code",
   "execution_count": 68,
   "id": "49acb9dd",
   "metadata": {},
   "outputs": [
    {
     "data": {
      "text/plain": [
       "<BarContainer object of 100 artists>"
      ]
     },
     "execution_count": 68,
     "metadata": {},
     "output_type": "execute_result"
    },
    {
     "data": {
      "image/png": "[encoded data removed]",
      "text/plain": [
       "<Figure size 432x288 with 1 Axes>"
      ]
     },
     "metadata": {
      "needs_background": "light"
     },
     "output_type": "display_data"
    }
   ],
   "source": [
    "plt.bar(time,rainfall)"
   ]
  },
  {
   "cell_type": "code",
   "execution_count": 69,
   "id": "b157c07d",
   "metadata": {},
   "outputs": [],
   "source": [
    "##To estimate the cumulative rainfall\n",
    "cumulative_rainfall = np.cumsum(rainfall)"
   ]
  },
  {
   "cell_type": "code",
   "execution_count": 70,
   "id": "a9be3418",
   "metadata": {},
   "outputs": [
    {
     "data": {
      "text/plain": [
       "array([ 0.68292664,  1.5997135 ,  1.78085964,  1.87365682,  2.84654999,\n",
       "        3.18912003,  3.26623576,  3.670611  ,  3.77005574,  4.15403534,\n",
       "        5.02008829,  5.71873991,  6.01265124,  6.13482267,  6.90313167,\n",
       "        7.68538991,  8.47043427,  9.11402721, 10.0712471 , 10.38122615,\n",
       "       11.26451495, 12.06618431, 12.36841248, 12.49307419, 13.21825797,\n",
       "       13.41978377, 14.0453332 , 14.79253453, 15.41602796, 16.01419061,\n",
       "       16.67708169, 17.58862834, 17.80432617, 18.43390101, 19.36391235,\n",
       "       20.16671894, 20.94361494, 21.70068813, 22.4173734 , 23.29658601,\n",
       "       24.00259473, 24.31541661, 24.5335423 , 25.1966032 , 25.87892626,\n",
       "       26.63803112, 26.74752895, 27.42961443, 27.73975783, 28.03228728,\n",
       "       28.06473991, 29.05478878, 29.65599449, 29.78960125, 30.53538203,\n",
       "       30.84162928, 31.05685869, 31.3547227 , 31.97304008, 32.19988875,\n",
       "       32.22888772, 32.93655083, 33.03953637, 34.02700176, 34.80077836,\n",
       "       35.77650172, 36.53600137, 37.00826178, 37.40182007, 37.93101506,\n",
       "       38.71125701, 39.22636619, 39.95071333, 40.81819561, 40.92272559,\n",
       "       41.33618337, 41.955253  , 42.87986546, 43.75097544, 44.44512179,\n",
       "       45.06875764, 45.90798895, 46.24582056, 46.75862346, 46.90438964,\n",
       "       47.75835797, 48.73519939, 49.48608426, 49.60369549, 49.86349195,\n",
       "       50.43652504, 51.30930173, 51.80973179, 52.37887896, 53.10968077,\n",
       "       54.00429713, 54.34197882, 54.78994607, 55.68016796, 56.24232431])"
      ]
     },
     "execution_count": 70,
     "metadata": {},
     "output_type": "execute_result"
    }
   ],
   "source": [
    "cumulative_rainfall"
   ]
  },
  {
   "cell_type": "code",
   "execution_count": 71,
   "id": "a75a0ae9",
   "metadata": {},
   "outputs": [
    {
     "data": {
      "text/plain": [
       "<Figure size 432x288 with 0 Axes>"
      ]
     },
     "metadata": {},
     "output_type": "display_data"
    }
   ],
   "source": [
    "plt.clf()"
   ]
  },
  {
   "cell_type": "code",
   "execution_count": 72,
   "id": "81ed7187",
   "metadata": {},
   "outputs": [
    {
     "ename": "NameError",
     "evalue": "name 'cumulative' is not defined",
     "output_type": "error",
     "traceback": [
      "\u001b[1;31m---------------------------------------------------------------------------\u001b[0m",
      "\u001b[1;31mNameError\u001b[0m                                 Traceback (most recent call last)",
      "\u001b[1;32m<ipython-input-72-54bfb411c05e>\u001b[0m in \u001b[0;36m<module>\u001b[1;34m\u001b[0m\n\u001b[1;32m----> 1\u001b[1;33m \u001b[0mplt\u001b[0m\u001b[1;33m.\u001b[0m\u001b[0mplot\u001b[0m \u001b[1;33m(\u001b[0m\u001b[0mcumulative\u001b[0m\u001b[1;33m,\u001b[0m\u001b[0mrainfall\u001b[0m\u001b[1;33m)\u001b[0m\u001b[1;33m\u001b[0m\u001b[1;33m\u001b[0m\u001b[0m\n\u001b[0m",
      "\u001b[1;31mNameError\u001b[0m: name 'cumulative' is not defined"
     ]
    }
   ],
   "source": [
    "plt.plot (cumulative,rainfall)"
   ]
  },
  {
   "cell_type": "code",
   "execution_count": null,
   "id": "a698623f",
   "metadata": {},
   "outputs": [],
   "source": []
  }
 ],
 "metadata": {
  "kernelspec": {
   "display_name": "Python 3",
   "language": "python",
   "name": "python3"
  },
  "language_info": {
   "codemirror_mode": {
    "name": "ipython",
    "version": 3
   },
   "file_extension": ".py",
   "mimetype": "text/x-python",
   "name": "python",
   "nbconvert_exporter": "python",
   "pygments_lexer": "ipython3",
   "version": "3.7.10"
  }
 },
 "nbformat": 4,
 "nbformat_minor": 5
}
